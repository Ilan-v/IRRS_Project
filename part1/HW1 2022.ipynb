{
 "cells": [
  {
   "cell_type": "markdown",
   "metadata": {},
   "source": [
    "# Homework 1: Information Retrieval\n",
    "## Instructions\n",
    "1. Students will form teams of three people each and submit a single homework for each team in the format - ID1_ID2_ID3.ipynb\n",
    "2. Groups of three!\n",
    "2. **Do not write your names anywhere.**\n",
    "3. For the code part: \n",
    "> **Write your code only in the mentioned sections. Do not change the code of other sections**. Do not use any imports unless we say so.\n",
    "4. For theoretical questions, if any - write your answer in the markdown cell dedicated to this task, in **English**.\n",
    "\n",
    "\n",
    "#### Deviation from the aforementioned  instructions will lead to reduced grade\n",
    "---\n",
    "\n",
    "\n",
    "## Clarifications\n",
    "1. The same score for the homework will be given to each member of the team.  \n",
    "2. The goal of this homework is to test your understanding of the concepts presented in the lectures. \\\n",
    "Anyhow, we provide here detailed explanations for the code part and if you have problems - ask.\n",
    "3. Questions can be sent to the forum, you are encouraged to ask questions but do so after you have been thinking about your question. \n",
    "4. The length of the empty gaps (where you are supposed to write your code) is a recommendation (the amount of space took us to write the solution) and writing longer code will not harm your grade. We do not expect you to use the programming tricks and hacks we used to make the code shorter.   \n",
    "Having said that, we do encourage you to write good code and keep that in mind - **extreme** cases may be downgraded.  \n",
    "We also encourage to use informative variable names - it is easier for us to check and for you to understand. \n",
    "\n",
    "For your convenience, , the code has a **DEBUG** mode that you may use in order to debug with toy data.  \n",
    "It is recommended to solve the code in that mode (with efficiency in mind) and then run the code on all the data.\n",
    "**Do not forget to file the HW with DEBUG == False**.\n",
    "\n",
    "\n",
    "Since it is the first time we provide this homework please notify us if there is a bug/something is unclear, typo's exc..\n",
    "\n",
    "5. We use Python 3.7 for programming.\n",
    "6. Make sure you have all the packages and functions used in the import section. Most of it is native to Anaconda Python distribution.\n",
    "\n",
    "### Have fun !"
   ]
  },
  {
   "cell_type": "markdown",
   "metadata": {},
   "source": [
    "# Imports"
   ]
  },
  {
   "cell_type": "code",
   "execution_count": 1,
   "metadata": {},
   "outputs": [],
   "source": [
    "import numpy as np\n",
    "import pandas as pd\n",
    "import matplotlib.pyplot as plt\n",
    "from collections import Counter\n",
    "%matplotlib inline\n",
    "from tqdm import tqdm\n",
    "from typing import List,Dict\n",
    "from IPython.display import Image\n",
    "from IPython.core.display import HTML \n",
    "from pathlib import Path\n",
    "import statistics\n",
    "import math\n",
    "import scipy.stats as st\n",
    "import time"
   ]
  },
  {
   "cell_type": "code",
   "execution_count": 2,
   "metadata": {},
   "outputs": [],
   "source": [
    "tic = time.perf_counter() #Start timer"
   ]
  },
  {
   "cell_type": "code",
   "execution_count": 3,
   "metadata": {},
   "outputs": [
    {
     "name": "stderr",
     "output_type": "stream",
     "text": [
      "[nltk_data] Downloading package stopwords to\n",
      "[nltk_data]     C:\\Users\\ilanv\\AppData\\Roaming\\nltk_data...\n",
      "[nltk_data]   Package stopwords is already up-to-date!\n",
      "[nltk_data] Downloading package punkt to\n",
      "[nltk_data]     C:\\Users\\ilanv\\AppData\\Roaming\\nltk_data...\n",
      "[nltk_data]   Package punkt is already up-to-date!\n"
     ]
    }
   ],
   "source": [
    "from nltk.tokenize import word_tokenize \n",
    "from nltk.stem.porter import PorterStemmer\n",
    "import nltk\n",
    "nltk.download(\"stopwords\")\n",
    "nltk.download(\"punkt\")\n",
    "from string import punctuation, ascii_lowercase\n",
    "from nltk.corpus import stopwords"
   ]
  },
  {
   "cell_type": "markdown",
   "metadata": {},
   "source": [
    "# Debug\n",
    "\"\"\" you can change this cell \"\"\""
   ]
  },
  {
   "cell_type": "code",
   "execution_count": 50,
   "metadata": {},
   "outputs": [],
   "source": [
    "DEBUG = False\n",
    "\"\"\"\n",
    "Recommended to start with a small number to get a feeling for the preprocessing with prints (N_ROWS_FOR_DEBUG = 2)\n",
    "later increase this number for 5*10**3 in order to see that the code runs at reasonable speed. \n",
    "When setting Debug == False, our code implements bow.fit() in 15-20 minutes according to the tqdm progress bar. Your solution is not supposed to be much further than that.\n",
    "\"\"\"\n",
    "N_ROWS_FOR_DEBUG = 5*10**3 "
   ]
  },
  {
   "cell_type": "markdown",
   "metadata": {},
   "source": [
    "# Config"
   ]
  },
  {
   "cell_type": "code",
   "execution_count": 51,
   "metadata": {},
   "outputs": [],
   "source": [
    "INPUT_FILE_PATH = Path(\"lyrics.csv\")\n",
    "BOW_PATH = Path(\"bow.csv\")\n",
    "N_ROWS = N_ROWS_FOR_DEBUG if DEBUG else None\n",
    "CHUNCK_SIZE = 5 if DEBUG else 5*10**3\n",
    "tqdm_n_iterations = N_ROWS//CHUNCK_SIZE +1 if DEBUG else 114*10**3//CHUNCK_SIZE + 1\n",
    "COLS = [0]"
   ]
  },
  {
   "cell_type": "markdown",
   "metadata": {},
   "source": [
    "## 1.1 Bag of words /TfIdf model\n",
    "### Implement the following methods:\n",
    "\n",
    "* `preprocess_sentence`: \n",
    "    * Lower case the word\n",
    "    * Ignores it if it's in the stopwords list\n",
    "    * Removes characters which are not in the allowed symbols\n",
    "    * Stems it and appends it to the output sentence\n",
    "    * Discards words with length <= 1\n",
    "    \n",
    "    \n",
    "* `update_counts_and_probabilities`: \n",
    "\n",
    "    * Update self.unigram count (the amount of time each word is in the text)\n",
    "    * Update self.bigram count (two consecutive word occurances)\n",
    "    * Update inverted index: a dictionary with words as keys and the values is a dictionary - {'DocID' : word_count}   \n",
    "    \n",
    "* `compute_word_document_frequency`:\n",
    "\n",
    "   * For each word count the number of docs it appears in. For example , for the word 'apple' -\n",
    "$$\\sum_{i \\in docs} I(apple \\in doc_i), I := Indicator function$$\n",
    "\n",
    "\n",
    "* `update_inverted_index_with_tf_idf_and_compute_document_norm`:\n",
    "\n",
    "    * Update the inverted index (which currently hold word counts) with tf idf weighing. We will compute tf by dividing with the number of words in each document. \n",
    "    * As we want to calculate the document norm, incrementally update the document norm. pay attention that later we apply sqrt to it to finish the process.\n",
    "\n",
    "#### The result of this code is a bag of words model that already counts for TF-IDF weighing"
   ]
  },
  {
   "cell_type": "code",
   "execution_count": 52,
   "metadata": {},
   "outputs": [],
   "source": [
    "stemmer = PorterStemmer()\n",
    "stop_words = set(stopwords.words('english'))\n",
    "allowed_symbols = set(l for l in ascii_lowercase)"
   ]
  },
  {
   "cell_type": "code",
   "execution_count": null,
   "metadata": {},
   "outputs": [],
   "source": [
    "def preprocess_sentence(sentence : str) -> List[str]:\n",
    "    output_sentence = []\n",
    "    for word in word_tokenize(sentence):\n",
    "        ### YOUR CODE HERE\n",
    "        #Lower case the word\n",
    "        word_lower = word.lower()\n",
    "        \n",
    "        #Ignores it if it's in the stopwords list\n",
    "        if word_lower in stop_words:\n",
    "            continue\n",
    "        \n",
    "        #Removes characters which are not in the allowed symbols\n",
    "        s = ''.join(c for c in word_lower if c in allowed_symbols)\n",
    "        \n",
    "        #Stems it and appends it to the output sentence\n",
    "        word_stem = stemmer.stem(s)\n",
    "        \n",
    "        #Discards words with length <= 1\n",
    "        if len(word_stem)<=1:\n",
    "            continue\n",
    "        output_sentence.append(word_stem)\n",
    "\n",
    "        ### END YOUR CODE\n",
    "    return output_sentence\n",
    "    \n",
    "\n",
    "def get_data_chuncks() -> List[str]:\n",
    "    for i ,chunck in enumerate(pd.read_csv(INPUT_FILE_PATH, usecols = COLS, chunksize = CHUNCK_SIZE, nrows = N_ROWS)):\n",
    "        chunck = chunck.values.tolist()\n",
    "        yield [chunck[i][0] for i in range(len(chunck))] \n",
    "\n",
    "class TfIdf:\n",
    "    def __init__(self,  weighted_dic = None):\n",
    "        self.weighted_dic = weighted_dic\n",
    "        self.unigram_count =  Counter()\n",
    "        self.bigram_count = Counter()\n",
    "        self.document_term_frequency = Counter()\n",
    "        self.word_document_frequency = {}\n",
    "        self.inverted_index = {}\n",
    "        self.doc_norms = {}\n",
    "        self.n_docs = -1\n",
    "        self.sentence_preprocesser = preprocess_sentence\n",
    "        self.bow_path = BOW_PATH\n",
    "\n",
    "    def update_counts_and_probabilities(self, sentence :List[str],document_id:int) -> None:\n",
    "        sentence_len = len(sentence)\n",
    "        self.document_term_frequency[document_id] = sentence_len\n",
    "        for i,word in enumerate(sentence):\n",
    "            ### YOUR CODE HERE\n",
    "            #Update self.unigram count (the amount of time each word is in the text)\n",
    "            self.unigram_count.update([word])\n",
    "            \n",
    "            #Update inverted index: a dictionary with words as keys and the values is a dictionary - {'DocID' : word_count}\n",
    "            if word in self.inverted_index:\n",
    "                self.inverted_index[word][document_id] = self.inverted_index[word].get(document_id,0) + 1 \n",
    "\n",
    "            else:\n",
    "                self.inverted_index[word] = {}\n",
    "                self.inverted_index[word][document_id] = 1\n",
    "            \n",
    "            #Update self.bigram count (two consecutive word occurances)\n",
    "            #TODO: find out what format should be used for bigram key\n",
    "            if i+1<len(sentence):\n",
    "                s1=word+\" \"+sentence[i+1]\n",
    "                self.bigram_count.update([s1])\n",
    "  \n",
    "            ### END YOUR CODE\n",
    "        \n",
    "        \n",
    "    def fit(self) -> None:\n",
    "        for chunck in tqdm(get_data_chuncks(), total = tqdm_n_iterations):\n",
    "            for sentence in chunck: #sentence is a song (string)\n",
    "                self.n_docs += 1 \n",
    "                if not isinstance(sentence, str):\n",
    "                    continue\n",
    "                sentence = self.sentence_preprocesser(sentence)\n",
    "                if sentence:\n",
    "                    self.update_counts_and_probabilities(sentence,self.n_docs)\n",
    "        self.save_bow() # bow is 'bag of words'\n",
    "        self.compute_word_document_frequency()\n",
    "        self.update_inverted_index_with_tf_idf_and_compute_document_norm()\n",
    "             \n",
    "    def compute_word_document_frequency(self):\n",
    "        for word in self.inverted_index.keys():\n",
    "            ### YOUR CODE HERE\n",
    "            #For each word count the number of docs it appears in\n",
    "            self.word_document_frequency[word]=len(self.inverted_index[word].keys())\n",
    "            ### END YOUR CODE\n",
    "            \n",
    "    def update_inverted_index_with_tf_idf_and_compute_document_norm(self):\n",
    "        ### YOUR CODE HERE\n",
    "        #tf_idf =  tf by dividing with the number of words in each document\n",
    "        for word in self.inverted_index.keys():\n",
    "            doc_freq_dic=self.inverted_index[word]\n",
    "            # summ=sum(doc_freq_dic.values()) #num of all occurences TODO: validate this\n",
    "            \n",
    "            for doc in doc_freq_dic.keys():\n",
    "                tf_i = doc_freq_dic[doc]/self.document_term_frequency[doc]\n",
    "                \n",
    "                #calculate the document norm\n",
    "                self.doc_norms[doc]= self.doc_norms.get(doc,0) + doc_freq_dic[doc]**2\n",
    "                    \n",
    "                #calculate tf_idf\n",
    "                df_i = self.word_document_frequency[word]\n",
    "                self.inverted_index[word][doc] = tf_i*np.log(self.n_docs/df_i)\n",
    "\n",
    "        ### END YOUR CODE\n",
    "        for doc in self.doc_norms.keys():\n",
    "            self.doc_norms[doc] = np.sqrt(self.doc_norms[doc]) \n",
    "            \n",
    "    def save_bow(self):\n",
    "        pd.DataFrame([self.inverted_index]).T.to_csv(self.bow_path)\n",
    "                \n",
    "tf_idf = TfIdf()\n",
    "tf_idf.fit()"
   ]
  },
  {
   "cell_type": "markdown",
   "metadata": {},
   "source": [
    "## 1.11 Bag of words model:\n",
    "\n",
    "1. What is the computational complexity of this model, as a function of the number of docs in the corpus?\n",
    "2. How can we make this code better in terms running time (parallelization or other topics you find)? "
   ]
  },
  {
   "cell_type": "markdown",
   "metadata": {},
   "source": [
    "### YOUR SOLUTION HERE\n",
    "1. O(D). We checked the complexity from the fit() function. Each function that is called by fit() has a complexity that is not above m(num of words)*D(num of documents). Explanation: sentence_preprocesser - has a complexity of O(m), update_counts_and_probabilities - has a complexity of O(m), compute_word_document_frequency - has a complexity of O(m), update_inverted_index_with_tf_idf_and_compute_document_norm - has a complexity of O(m*D)-> that is why the computational complexity of this model is O(D) (as function of documents).\n",
    "2. We can run the data (which is separated by chunks) on differrent computers. Each computer will go through number of chunks, and when the data retrieved - it will be united on one computer. It will reduce the running time of the code.\n",
    "### END YOUR SOLUTION\n"
   ]
  },
  {
   "cell_type": "markdown",
   "metadata": {},
   "source": [
    "## 1.2 DocumentRetriever\n",
    "Not this retriever &#8595;"
   ]
  },
  {
   "cell_type": "markdown",
   "metadata": {},
   "source": [
    "\n",
    "![dsafdsafsdafdsf](https://cdn3-www.dogtime.com/assets/uploads/2019/10/golden-cocker-retriever-mixed-dog-breed-pictures-cover-1.jpg)"
   ]
  },
  {
   "cell_type": "markdown",
   "metadata": {},
   "source": [
    "### Implement the following methods:\n",
    "\n",
    "`reduce_query_to_counts`: given a list of words returns a counter object with words as keys and counts as values.\n",
    "\n",
    "`rank`: given a query and relevant documents calculate the similarity (cosine or inner product simialrity) between each document and the query.   \n",
    "Make sure to transform the query word counts to tf idf as well. \n",
    "\n",
    "`sort_and_retrieve_k_best`: returns the top k documents."
   ]
  },
  {
   "cell_type": "code",
   "execution_count": 8,
   "metadata": {},
   "outputs": [],
   "source": [
    "class DocumentRetriever:\n",
    "    def __init__(self, tf_idf):\n",
    "        self.sentence_preprocesser = preprocess_sentence  \n",
    "        self.vocab = set(tf_idf.unigram_count.keys())\n",
    "        self.n_docs = tf_idf.n_docs\n",
    "        self.inverted_index = tf_idf.inverted_index\n",
    "        self.word_document_frequency = tf_idf.word_document_frequency\n",
    "        self.doc_norms = tf_idf.doc_norms\n",
    "        \n",
    "    def rank(self,query: Dict[str,int], documents: Dict[str,Counter], metric: str ) -> Dict[str, float]:\n",
    "        result = {} # key: DocID , value : float , simmilarity to query\n",
    "        query_len = np.sum(np.array(list(query.values())))\n",
    "        ### YOUR CODE HERE\n",
    "        #tf_idf for query using the tf_idf formula \n",
    "        for q in query.keys():\n",
    "            tf = query[q]/query_len\n",
    "            idf = np.absolute(np.log(self.n_docs/self.word_document_frequency[q]))\n",
    "            query[q] = tf*idf\n",
    "\n",
    "         ### END YOUR CODE\n",
    "        if metric == 'cosine':\n",
    "            ### YOUR CODE HERE\n",
    "            #calculate the cosine similarity\n",
    "            for document in result.keys():\n",
    "                print (result[document]) #TODO: Remove\n",
    "                result[doc] = ((result[doc]/query_len)/self.doc_norms[doc])\n",
    "                # result[document] = ((result[document])/np.sqrt(((self.doc_norms[document])**2)*((query_len)**2)))\n",
    "        \n",
    "        elif metric == 'inner_product':\n",
    "            #product calculation\n",
    "            for word in query.keys():\n",
    "                for doc in documents[word].keys():\n",
    "                    result[doc]=result.get(doc,0)+documents[word][doc]*query[word]\n",
    "            ### END YOUR CODE\n",
    "        return result\n",
    "        \n",
    "    \n",
    "    def sort_and_retrieve_k_best(self, scores: Dict[str, float],k :int):\n",
    "        ### YOUR CODE HERE \n",
    "        #sort the scores in descending order and then get the k best of them \n",
    "        sort_the_scores = sorted(scores, key=lambda k: scores[k], reverse=True)\n",
    "        k_best = sort_the_scores[:k]\n",
    "        return k_best\n",
    "        ### END YOUR CODE\n",
    "\n",
    "    \n",
    "    def reduce_query_to_counts(self, query : List)->  Counter:\n",
    "        ### YOUR CODE HERE\n",
    "        #create the counter for each word from the query\n",
    "        counter = Counter()\n",
    "        for q in query:\n",
    "            counter.update([q])\n",
    "        \n",
    "        return counter\n",
    "        ### END YOUR CODE\n",
    "        \n",
    "        \n",
    "    def get_top_k_documents(self,query : str, metric: str , k = 5) -> List[str]:\n",
    "        query = self.sentence_preprocesser(query)\n",
    "        query = [word for word in query if word in self.vocab] # filter nan \n",
    "        query_bow = self.reduce_query_to_counts(query)\n",
    "        relavant_documents = {word : self.inverted_index.get(word) for word in query}\n",
    "        ducuments_with_similarity = self.rank(query_bow,relavant_documents, metric)\n",
    "        return self.sort_and_retrieve_k_best(ducuments_with_similarity,k)\n",
    "        \n",
    "dr = DocumentRetriever(tf_idf)"
   ]
  },
  {
   "cell_type": "code",
   "execution_count": 9,
   "metadata": {},
   "outputs": [
    {
     "name": "stderr",
     "output_type": "stream",
     "text": [
      "F:\\Apps\\anaconda3\\lib\\site-packages\\IPython\\core\\display.py:724: UserWarning: Consider using IPython.display.IFrame instead\n",
      "  warnings.warn(\"Consider using IPython.display.IFrame instead\")\n"
     ]
    },
    {
     "data": {
      "text/html": [
       "<iframe width=\"560\" height=\"315\" src=\"https://www.youtube.com/embed/KT6ZtUbVw1M?rel=0&amp;controls=0&amp;showinfo=0\" frameborder=\"0\" allowfullscreen></iframe>"
      ],
      "text/plain": [
       "<IPython.core.display.HTML object>"
      ]
     },
     "execution_count": 9,
     "metadata": {},
     "output_type": "execute_result"
    }
   ],
   "source": [
    "from IPython.display import HTML\n",
    "query = \"Better stop dreaming of the quiet life, 'cause it's the one we'll never know And quit running for that runaway bus 'cause those rosy days are few And stop apologizing for the things you've never done 'Cause time is short and life is cruel but it's up to us to change This town called malice\"\n",
    "HTML('<iframe width=\"560\" height=\"315\" src=\"https://www.youtube.com/embed/KT6ZtUbVw1M?rel=0&amp;controls=0&amp;showinfo=0\" frameborder=\"0\" allowfullscreen></iframe>')"
   ]
  },
  {
   "cell_type": "code",
   "execution_count": 10,
   "metadata": {},
   "outputs": [
    {
     "name": "stdout",
     "output_type": "stream",
     "text": [
      "[]\n",
      "[2717, 3500, 3661, 1016, 905]\n"
     ]
    }
   ],
   "source": [
    "cosine_top_k = dr.get_top_k_documents(query, 'cosine')\n",
    "print(cosine_top_k)\n",
    "inner_product_top_k = dr.get_top_k_documents(query, 'inner_product')\n",
    "print(inner_product_top_k)"
   ]
  },
  {
   "cell_type": "code",
   "execution_count": 11,
   "metadata": {},
   "outputs": [],
   "source": [
    "for index, song in enumerate(pd.read_csv(INPUT_FILE_PATH,usecols = [0]).iloc[cosine_top_k]['Lyric']):\n",
    "    sep = \"#\"*50\n",
    "    print(F\"{sep}\\nsong #{index} \\n{song} \\n{sep}\")"
   ]
  },
  {
   "cell_type": "markdown",
   "metadata": {},
   "source": [
    "# 1.3 term statistics:\n",
    "Use \"tf_idf\" object that we created earlier and answer the following questions:\n",
    "\n",
    "1. How many unique words we have?\n",
    "2. How many potential word bigrams we have? How many actual word bigrams we have? How do you explain this difference?\n",
    "3. What is the storage size of the input file \"lyrics.csv\"? What is the output file (bow.csv) size? how do you explain this difference?  "
   ]
  },
  {
   "cell_type": "code",
   "execution_count": 12,
   "metadata": {},
   "outputs": [
    {
     "name": "stdout",
     "output_type": "stream",
     "text": [
      "Unique words: 16556\n",
      "Actual word bigrams 208400\n",
      "Input file size: 168274338\n",
      "Bow file size: 2873883\n"
     ]
    },
    {
     "data": {
      "text/plain": [
       "'\\n### Your verbal solution here\\nThe input file is bigger than bow file, because in the input file we have lots of repetitions of the same words,\\nnot allowed symboles, unstemmed words. \\n### End your verbal solution here\\n'"
      ]
     },
     "execution_count": 12,
     "metadata": {},
     "output_type": "execute_result"
    }
   ],
   "source": [
    "# 1. \n",
    "### YOUR SOLUTION HERE\n",
    "print(\"Unique words: \"+ str(len(tf_idf.unigram_count.keys())))\n",
    "\n",
    "### END YOUR SOLUTION\n",
    "\n",
    "\"\"\"\n",
    "### Your verbal solution here\n",
    "The number of unique words is 387366.\n",
    "### End your verbal solution here\n",
    "\"\"\"\n",
    "\n",
    "# 2.\n",
    "### YOUR SOLUTION HERE\n",
    "print(\"Actual word bigrams \"+ str(len(tf_idf.bigram_count.keys())))\n",
    "\n",
    "### END YOUR SOLUTION\n",
    "\n",
    "\"\"\"\n",
    "### Your verbal solution here\n",
    "Num of potential bigrams is 387366^2 (as the num of unique words multiplied by itself). \n",
    "The reason for the difference is that when we created bigram_count dictionary,\n",
    "we took the closest next word from the sentence in our corpus, which means that we have not all the possible \n",
    "combinations. That is why we have only 6303176 bigrams.\n",
    "\n",
    "### End your verbal solution here\n",
    "\"\"\"\n",
    "\n",
    "# 3.\n",
    "### YOUR SOLUTION HERE\n",
    "print(\"Input file size: \"+str(INPUT_FILE_PATH.stat().st_size))\n",
    "print(\"Bow file size: \"+str(BOW_PATH.stat().st_size))\n",
    "### END YOUR SOLUTION\n",
    "\n",
    "\"\"\"\n",
    "### Your verbal solution here\n",
    "The input file is bigger than bow file, because in the input file we have lots of repetitions of the same words,\n",
    "not allowed symboles, unstemmed words. \n",
    "### End your verbal solution here\n",
    "\"\"\""
   ]
  },
  {
   "cell_type": "markdown",
   "metadata": {},
   "source": [
    "## 1.4 NgramSpellingCorrector\n",
    "Now we will implement a Ngarm (character Ngrams) spelling corrector. That is, we have an out of vocabulary word (v) and we want to retrieve the most similar words (in our vocabulary) to this word.\n",
    "we will model the similarity of two words by-\n",
    "\n",
    "$$sim(v,w) := prior \\cdot likelihood = p(w) \\cdot P(v|w) $$ \n",
    "$$P(v|w) := JaccardIndex =  \\frac{|X \\cap Y|}{|X \\cup Y|}$$\n",
    "\n",
    "Where v is an out of vocabulary word (typo or spelling mistake), w is in a vocabulary word, X is the ngram set of v and Y is the ngram set of w.\n",
    "For example, if n == 3, the set of ngrams for word \"banana\" is set(\"ban\",\"ana\",\"nan\",\"ana\") = {\"ban\",\"ana\",\"nan\"}\n",
    "\n",
    "In order to do it efficently, we will first construct an index from the possible Ngrams we have seen in our corpus to the words that those Ngrams appear in, in order prevent comparing v to all of the words in our corpus.\n",
    "Then, we will implement a function that computes this similarity.\n",
    "\n",
    "* Make sure you compute the JaccardIndex efficently!"
   ]
  },
  {
   "cell_type": "code",
   "execution_count": 13,
   "metadata": {},
   "outputs": [
    {
     "data": {
      "text/plain": [
       "'\\nfor example - get_bigrams is a generator, which is an object we can loop on:\\nfor ngram in get_bigrams(word):\\n    DO SOMETHING\\n'"
      ]
     },
     "execution_count": 13,
     "metadata": {},
     "output_type": "execute_result"
    }
   ],
   "source": [
    "def get_bigrams(word):\n",
    "    for ngram in nltk.ngrams(word, 2):\n",
    "        yield \"\".join(list(ngram))\n",
    "    \n",
    "\"\"\"\n",
    "for example - get_bigrams is a generator, which is an object we can loop on:\n",
    "for ngram in get_bigrams(word):\n",
    "    DO SOMETHING\n",
    "\"\"\""
   ]
  },
  {
   "cell_type": "code",
   "execution_count": 18,
   "metadata": {},
   "outputs": [],
   "source": [
    "class NgramSpellingCorrector:\n",
    "    def __init__(self, unigram_counts: Counter, get_n_gram: callable):\n",
    "        self.unigram_counts = unigram_counts\n",
    "        self.ngram_index = {}\n",
    "        self.get_n_grams = get_n_gram\n",
    "    \n",
    "    def build_index(self) -> None:\n",
    "        ### YOUR CODE HERE\n",
    "        for u in self.unigram_counts.keys():\n",
    "            #split the words into ngrams\n",
    "            ngrams = self.get_n_grams(u)\n",
    "            for g in ngrams:\n",
    "                # values are sets of words\n",
    "                if g in self.ngram_index:\n",
    "                    self.ngram_index[g].add(u)\n",
    "                else:\n",
    "                    self.ngram_index[g] = {u}\n",
    "\n",
    "        ### END YOUR CODE\n",
    "        \n",
    "    def get_top_k_words(self,word:str,k=5) -> tuple([List[str], Dict[str, float]]):\n",
    "        ### YOUR CODE HERE\n",
    "        candidate_dic = {}\n",
    "        word_ngrams = set(self.get_n_grams(word))\n",
    "        unigram_sum = sum(self.unigram_counts.values())\n",
    "        for ngram in self.get_n_grams(word):\n",
    "            #get potential words - words that contain simmilar n-grams\n",
    "            for pot_word in self.ngram_index[ngram]:\n",
    "                if pot_word not in candidate_dic.keys():\n",
    "                    #calculate JaccardIndex\n",
    "                    pot_ngrams = set(self.get_n_grams(pot_word))\n",
    "                    inter = pot_ngrams & word_ngrams\n",
    "                    union = pot_ngrams | word_ngrams\n",
    "                    jaccard_index = len(inter)/len(union)\n",
    "                    candidate_dic[pot_word] = jaccard_index\n",
    "        #return k best results\n",
    "        res_dic = dict(sorted(candidate_dic.items(), key=lambda x: x[1], reverse=True)[:k])\n",
    "        res_list = list(res_dic.keys())\n",
    "        return res_list,res_dic\n",
    "        ### END YOUR CODE\n",
    "\n",
    "\n",
    "class BigramSpellingCorrector(NgramSpellingCorrector):\n",
    "    def __init__(self, unigram_counts: Counter):\n",
    "        super().__init__(unigram_counts, get_bigrams)"
   ]
  },
  {
   "cell_type": "code",
   "execution_count": 19,
   "metadata": {},
   "outputs": [],
   "source": [
    "out_of_vocab_word = 'acress'\n",
    "bigram_spelling_corrector = BigramSpellingCorrector(tf_idf.unigram_count)\n",
    "bigram_spelling_corrector.build_index()\n",
    "candidate_words, scores = bigram_spelling_corrector.get_top_k_words(out_of_vocab_word)"
   ]
  },
  {
   "cell_type": "code",
   "execution_count": 20,
   "metadata": {},
   "outputs": [
    {
     "data": {
      "text/plain": [
       "['actress', 'acess', 'crest', 'dress', 'press']"
      ]
     },
     "execution_count": 20,
     "metadata": {},
     "output_type": "execute_result"
    }
   ],
   "source": [
    "candidate_words"
   ]
  },
  {
   "cell_type": "code",
   "execution_count": 22,
   "metadata": {},
   "outputs": [
    {
     "name": "stdout",
     "output_type": "stream",
     "text": [
      "The jaccared score for the word actress is 0.57\n",
      "The jaccared score for the word acess is 0.5\n",
      "The jaccared score for the word crest is 0.5\n",
      "The jaccared score for the word dress is 0.5\n",
      "The jaccared score for the word press is 0.5\n"
     ]
    }
   ],
   "source": [
    "for word in candidate_words:\n",
    "    print(f'The jaccared score for the word {word} is {round(scores[word],2)}')"
   ]
  },
  {
   "cell_type": "markdown",
   "metadata": {},
   "source": [
    "## 1.5 Zipf's law \n",
    "For this part of the assignment, you will not ignore the “stop words” in advance, but rather take a data-driven approach. you will first create a dictionary with keys representing the words in the corpus and values representing how many times each word appears.\n",
    "\n",
    "Using a simple visualization (scatter plot), you will then check whether the frequency of the words corresponds to Zipf's law.  Once we see that this is indeed the case, we'll try to display the graph on a logarithmic scale (both x and y axis) and see if we can get a linear trend.\n",
    "\n",
    "Each word should then weighted according to its frequency, so that the words that appear most often are given a lower weight, and so on for the words whose frequency is the lowest.\n",
    "\n",
    "So how we are going to do that?\n",
    "You will standardize all the frequency values in the dictionary and after that, they will be re-weighted. If the value of the word is less than zero after standardization, you will calculate P(X <=Z) and if the value of the word is greater than 0, you will calculate 1 - P (X <= Z), and this will be the weight for every word.\n",
    "\n",
    "Now you will multiply the standard “tf” calculation we made at the beginning of the assignment by another coefficient, which is the weight we just calculated.\n",
    "\n",
    "Lastly, we will perform the same query you performed in the previous part of the assignment and check if the returned documents are identical or different.\n"
   ]
  },
  {
   "cell_type": "code",
   "execution_count": 23,
   "metadata": {},
   "outputs": [],
   "source": [
    "#Override preprocess_sentence function in such a way that stop words are not ignored\n",
    "def preprocess_sentence(sentence : str) -> List[str]:\n",
    "    output_sentence = []\n",
    "    for word in word_tokenize(sentence):\n",
    "        ### YOUR CODE HERE\n",
    "        #Lower case the word\n",
    "        word_lower = word.lower()\n",
    "        #Removes characters which are not in the allowed symbols\n",
    "        s = ''.join(c for c in word_lower if c in allowed_symbols)\n",
    "        #Stems it and appends it to the output sentence\n",
    "        word_stem = stemmer.stem(s)\n",
    "        #Discards words with length <= 1\n",
    "        if len(word_stem)<=1:\n",
    "            continue\n",
    "        output_sentence.append(word_stem)\n",
    "        ### END YOUR CODE\n",
    "    return output_sentence"
   ]
  },
  {
   "cell_type": "code",
   "execution_count": 24,
   "metadata": {},
   "outputs": [
    {
     "name": "stderr",
     "output_type": "stream",
     "text": [
      "100%|█████████▉| 1000/1001 [00:37<00:00, 26.64it/s]\n"
     ]
    }
   ],
   "source": [
    "tf_idf_2 = TfIdf()\n",
    "tf_idf_2.fit()"
   ]
  },
  {
   "cell_type": "code",
   "execution_count": 25,
   "metadata": {},
   "outputs": [],
   "source": [
    "totalFrequency = tf_idf_2.unigram_count\n",
    "\n",
    "def find_k_most_frequant_words(k : int, totalFrequency: Dict[str,int]) -> Dict[str,int]:\n",
    "    ### YOUR CODE HERE\n",
    "    top_k_frequant_words = dict(sorted(totalFrequency.items(), key=lambda x: x[1], reverse=True)[:k])\n",
    "    ### END YOUR CODE\n",
    "    return top_k_frequant_words\n",
    "    \n",
    "top_5_frequant_words = find_k_most_frequant_words(5, totalFrequency)"
   ]
  },
  {
   "cell_type": "code",
   "execution_count": 26,
   "metadata": {},
   "outputs": [
    {
     "data": {
      "text/plain": [
       "{'the': 44588, 'you': 43885, 'to': 25719, 'and': 25293, 'it': 20635}"
      ]
     },
     "execution_count": 26,
     "metadata": {},
     "output_type": "execute_result"
    }
   ],
   "source": [
    "top_5_frequant_words"
   ]
  },
  {
   "cell_type": "markdown",
   "metadata": {},
   "source": [
    "### Plot Word Frequency - scatterplot"
   ]
  },
  {
   "cell_type": "code",
   "execution_count": 28,
   "metadata": {},
   "outputs": [
    {
     "data": {
      "image/png": "[encoded data removed]",
      "text/plain": [
       "<Figure size 432x288 with 1 Axes>"
      ]
     },
     "metadata": {
      "needs_background": "light"
     },
     "output_type": "display_data"
    }
   ],
   "source": [
    "word_id = range(1, len(totalFrequency)+1)\n",
    "frequency_values = sorted(totalFrequency.values(),reverse=True)\n",
    "\n",
    "plt.scatter(word_id, frequency_values, s=2, alpha=0.6)\n",
    "plt.show()"
   ]
  },
  {
   "cell_type": "code",
   "execution_count": 29,
   "metadata": {},
   "outputs": [
    {
     "data": {
      "text/plain": [
       "'\\n### Your verbal solution here\\nYes, we notice a long tail distribution as we saw in lecture. Furthermore we can see a linear line in the log-log scale plot\\n### End your verbal solution here\\n'"
      ]
     },
     "execution_count": 29,
     "metadata": {},
     "output_type": "execute_result"
    }
   ],
   "source": [
    "#Does the plot follow Zips' law?\n",
    "\n",
    "\"\"\"\n",
    "### Your verbal solution here\n",
    "Yes, we notice a long tail distribution as we saw in lecture. Furthermore we can see a linear line in the log-log scale plot\n",
    "### End your verbal solution here\n",
    "\"\"\""
   ]
  },
  {
   "cell_type": "markdown",
   "metadata": {},
   "source": [
    "### Plot Word Frequency - scatterplot - log scale"
   ]
  },
  {
   "cell_type": "code",
   "execution_count": 30,
   "metadata": {},
   "outputs": [
    {
     "data": {
      "text/plain": [
       "<function matplotlib.pyplot.show(close=None, block=None)>"
      ]
     },
     "execution_count": 30,
     "metadata": {},
     "output_type": "execute_result"
    },
    {
     "data": {
      "image/png": "[encoded data removed]",
      "text/plain": [
       "<Figure size 432x288 with 1 Axes>"
      ]
     },
     "metadata": {
      "needs_background": "light"
     },
     "output_type": "display_data"
    }
   ],
   "source": [
    " ### YOUR CODE HERE\n",
    "plt.scatter(word_id, frequency_values, s=2, alpha=0.6)\n",
    "plt.yscale('log')\n",
    "plt.xscale('log')\n",
    "plt.show\n",
    "\n",
    "### END YOUR CODE"
   ]
  },
  {
   "cell_type": "markdown",
   "metadata": {},
   "source": [
    "### Data standartization and reweightening\n",
    "\n",
    "#### Standartization# "
   ]
  },
  {
   "cell_type": "code",
   "execution_count": 31,
   "metadata": {},
   "outputs": [],
   "source": [
    "mean = statistics.mean(frequency_values)\n",
    "std =math.sqrt(statistics.variance(frequency_values))"
   ]
  },
  {
   "cell_type": "code",
   "execution_count": 32,
   "metadata": {},
   "outputs": [],
   "source": [
    "def standartization(totalFrequency, mean, std) -> Dict[str, int]:\n",
    "    standardized_dic = {}\n",
    "    ### YOUR CODE HERE\n",
    "    standardized_dic = {x: (totalFrequency[x]-mean)/std for x in totalFrequency}\n",
    "    ### END YOUR CODE\n",
    "    return standardized_dic\n",
    "\n",
    "standardized_dic = standartization(totalFrequency, mean, std)"
   ]
  },
  {
   "cell_type": "code",
   "execution_count": 33,
   "metadata": {},
   "outputs": [],
   "source": [
    "def calc_probability_of_zscore(standardized_dic) -> Dict[str,int]:\n",
    "    weighted_dic = {}\n",
    "    for key in standardized_dic.keys():\n",
    "        if  standardized_dic[key] <= 0:\n",
    "            ### YOUR CODE HERE\n",
    "                weighted_dic[key] = st.norm.cdf(standardized_dic[key])\n",
    "            ### END YOUR CODE\n",
    "        else:\n",
    "            ### YOUR CODE HERE\n",
    "                weighted_dic[key] = 1 - st.norm.cdf(standardized_dic[key])\n",
    "            ### END YOUR CODE\n",
    "    return weighted_dic\n",
    "\n",
    "weighted_dic = calc_probability_of_zscore(standardized_dic)"
   ]
  },
  {
   "cell_type": "code",
   "execution_count": 34,
   "metadata": {},
   "outputs": [],
   "source": [
    "#Override the function update_inverted_index_with_tf_idf_and_compute_document_norm in such a way that you multiply the original tf by the weight of the word\n",
    "class WeightedTfIdf(TfIdf):\n",
    "    def update_inverted_index_with_tf_idf_and_compute_document_norm(self):\n",
    "        ### YOUR CODE HERE\n",
    "        for word in self.inverted_index.keys():\n",
    "            doc_freq_dic = self.inverted_index[word]\n",
    "            \n",
    "            for doc in doc_freq_dic.keys():\n",
    "                tf_i = doc_freq_dic[doc]/self.document_term_frequency[doc]\n",
    "                \n",
    "                #calculate the document norm\n",
    "                self.doc_norms[doc]= self.doc_norms.get(doc,0) + doc_freq_dic[doc]**2\n",
    "                    \n",
    "                #calculate tf*zscore\n",
    "                df_i = self.word_document_frequency[word]\n",
    "                self.inverted_index[word][doc] = tf_i * self.weighted_dic[word]\n",
    "\n",
    "        ### END YOUR CODE\n",
    "        for doc in self.doc_norms.keys():\n",
    "            self.doc_norms[doc] = np.sqrt(self.doc_norms[doc]) \n",
    "        ### END YOUR CODE"
   ]
  },
  {
   "cell_type": "code",
   "execution_count": 35,
   "metadata": {},
   "outputs": [
    {
     "name": "stderr",
     "output_type": "stream",
     "text": [
      "100%|█████████▉| 1000/1001 [00:38<00:00, 26.08it/s]\n"
     ]
    }
   ],
   "source": [
    "weightedTfIdf = WeightedTfIdf(weighted_dic)\n",
    "weightedTfIdf.fit()"
   ]
  },
  {
   "cell_type": "code",
   "execution_count": 36,
   "metadata": {},
   "outputs": [],
   "source": [
    "weighted_dr = DocumentRetriever(weightedTfIdf)"
   ]
  },
  {
   "cell_type": "code",
   "execution_count": 37,
   "metadata": {},
   "outputs": [],
   "source": [
    "query = \"Better stop dreaming of the quiet life, 'cause it's the one we'll never know And quit running for that runaway bus 'cause those rosy days are few And stop apologizing for the things you've never done 'Cause time is short and life is cruel but it's up to us to change This town called malice\""
   ]
  },
  {
   "cell_type": "code",
   "execution_count": 38,
   "metadata": {},
   "outputs": [
    {
     "name": "stdout",
     "output_type": "stream",
     "text": [
      "[]\n",
      "[3661, 2717, 905, 3500, 1016]\n"
     ]
    }
   ],
   "source": [
    "cosine_top_k = weighted_dr.get_top_k_documents(query, 'cosine')\n",
    "print(cosine_top_k)\n",
    "inner_product_top_k = weighted_dr.get_top_k_documents(query, 'inner_product')\n",
    "print(inner_product_top_k)"
   ]
  },
  {
   "cell_type": "code",
   "execution_count": null,
   "metadata": {},
   "outputs": [],
   "source": [
    "#Is there any similarity between the documents retrieved? Please explain.\n",
    "\n",
    "\"\"\"\n",
    "### Your verbal solution here\n",
    "\n",
    "\n",
    "TODO\n",
    "\n",
    "\n",
    "### End your verbal solution here\n",
    "\"\"\""
   ]
  },
  {
   "cell_type": "markdown",
   "metadata": {},
   "source": [
    "# 1.6 bigram's language model"
   ]
  },
  {
   "cell_type": "markdown",
   "metadata": {},
   "source": [
    "#### Following on from section 1.4, this section discusses spelling corrections.\n",
    "#### Documents were requested for the following query:\n",
    "\n",
    "\"the bad acress played role on the show\"\n",
    "\n",
    "#### It can be seen from section 1.4 that acress does not appear in the corpus and also received  five candidate words that could be considered its replacement. As soon as the sentence is given, it is possible and even desirable to consider the context in order to determine what candidate word to use. To do so, we will use bigram's language model to calculate P(w). Finally, we return the word with the best weighted score by multiplying P(w) by the jaccard index of the word. After you've done that, discuss the results.\n",
    "\n",
    "#### Notice: only p(w) is calculated in this case using the bigram language model a. You dont need to calculate p(x|w)."
   ]
  },
  {
   "cell_type": "code",
   "execution_count": 39,
   "metadata": {},
   "outputs": [
    {
     "name": "stdout",
     "output_type": "stream",
     "text": [
      "The best candidate word is : actress\n"
     ]
    }
   ],
   "source": [
    "the_uncorrect_sentense = \"the bad acress played role on the show\"\n",
    "#continue from here\n",
    "#use tf_idf object from section 1.1!!\n",
    "err_word = 'acress'\n",
    "query = preprocess_sentence(the_uncorrect_sentense)\n",
    "err_index = query.index(err_word)\n",
    "prev = query[err_index-1]\n",
    "after = query[err_index+1]\n",
    "# get candidates and jaccard score \n",
    "candidate_words, scores = bigram_spelling_corrector.get_top_k_words(out_of_vocab_word)\n",
    "bigram_score_dic = {}\n",
    "bigram_sum = sum(tf_idf.bigram_count.values())\n",
    "# Calculate score for each candidate\n",
    "for pot_word in candidate_words:\n",
    "    jaccard_score = scores[pot_word]\n",
    "    p_prev = tf_idf.bigram_count[prev + \" \" + err_word]/bigram_sum\n",
    "    p_after = tf_idf.bigram_count[err_word + \" \" + after]/bigram_sum\n",
    "    bigram_score_dic[pot_word] = p_prev*p_after*jaccard_score\n",
    "\n",
    "best_candidate = max(bigram_score_dic,key=bigram_score_dic.get)\n",
    "print(f'The best candidate word is : {best_candidate}')"
   ]
  },
  {
   "cell_type": "code",
   "execution_count": 49,
   "metadata": {},
   "outputs": [
    {
     "data": {
      "text/plain": [
       "{'actress': 0.0, 'acess': 0.0, 'crest': 0.0, 'dress': 0.0, 'press': 0.0}"
      ]
     },
     "execution_count": 49,
     "metadata": {},
     "output_type": "execute_result"
    }
   ],
   "source": [
    "bigram_score_dic"
   ]
  },
  {
   "cell_type": "code",
   "execution_count": 40,
   "metadata": {},
   "outputs": [
    {
     "data": {
      "text/plain": [
       "{'actress': 0.0, 'acess': 0.0, 'crest': 0.0, 'dress': 0.0, 'press': 0.0}"
      ]
     },
     "execution_count": 40,
     "metadata": {},
     "output_type": "execute_result"
    }
   ],
   "source": [
    "bigram_score_dic"
   ]
  },
  {
   "cell_type": "markdown",
   "metadata": {},
   "source": [
    "# The End - You did it!"
   ]
  },
  {
   "cell_type": "code",
   "execution_count": null,
   "metadata": {},
   "outputs": [],
   "source": [
    "#The time it took to run the entire code\n",
    "toc = time.perf_counter()\n",
    "print(f\"The time it took to run the entire code is: {(toc - tic)/60} minuts\")"
   ]
  }
 ],
 "metadata": {
  "kernelspec": {
   "display_name": "Python 3",
   "language": "python",
   "name": "python3"
  },
  "language_info": {
   "codemirror_mode": {
    "name": "ipython",
    "version": 3
   },
   "file_extension": ".py",
   "mimetype": "text/x-python",
   "name": "python",
   "nbconvert_exporter": "python",
   "pygments_lexer": "ipython3",
   "version": "3.8.8"
  }
 },
 "nbformat": 4,
 "nbformat_minor": 4
}
