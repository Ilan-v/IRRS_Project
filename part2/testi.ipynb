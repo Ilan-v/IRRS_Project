{
 "cells": [
  {
   "cell_type": "code",
   "execution_count": 1,
   "metadata": {
    "pycharm": {
     "name": "#%%\n"
    }
   },
   "outputs": [],
   "source": [
    "from utils import *\n",
    "import numpy as np\n",
    "import pickle\n",
    "import time"
   ]
  },
  {
   "cell_type": "code",
   "execution_count": 2,
   "metadata": {
    "pycharm": {
     "name": "#%%\n"
    }
   },
   "outputs": [],
   "source": [
    "t,v = get_data()"
   ]
  },
  {
   "cell_type": "code",
   "execution_count": 3,
   "metadata": {
    "pycharm": {
     "name": "#%%\n"
    }
   },
   "outputs": [],
   "source": [
    "ui_mtx = create_ui_matrix(t)"
   ]
  },
  {
   "cell_type": "code",
   "execution_count": 31,
   "metadata": {
    "pycharm": {
     "name": "#%%\n"
    }
   },
   "outputs": [
    {
     "data": {
      "text/plain": "(6040, 3224)"
     },
     "execution_count": 31,
     "metadata": {},
     "output_type": "execute_result"
    }
   ],
   "source": [
    "ui_mtx.shape"
   ]
  },
  {
   "cell_type": "code",
   "execution_count": 38,
   "outputs": [
    {
     "data": {
      "text/plain": "array([[4, 5, 5],\n       [0, 0, 0],\n       [0, 0, 0]])"
     },
     "execution_count": 38,
     "metadata": {},
     "output_type": "execute_result"
    }
   ],
   "source": [
    "itzik = ui_mtx[:3,:3]\n",
    "itzik"
   ],
   "metadata": {
    "collapsed": false,
    "pycharm": {
     "name": "#%%\n"
    }
   }
  },
  {
   "cell_type": "code",
   "execution_count": 39,
   "outputs": [
    {
     "data": {
      "text/plain": "array([4.66666667, 0.        , 0.        ])"
     },
     "execution_count": 39,
     "metadata": {},
     "output_type": "execute_result"
    }
   ],
   "source": [
    "itzik.mean(axis=1)"
   ],
   "metadata": {
    "collapsed": false,
    "pycharm": {
     "name": "#%%\n"
    }
   }
  },
  {
   "cell_type": "code",
   "execution_count": 43,
   "outputs": [
    {
     "data": {
      "text/plain": "array([56,  0,  0])"
     },
     "execution_count": 43,
     "metadata": {},
     "output_type": "execute_result"
    }
   ],
   "source": [
    "def func(row):\n",
    "    return row.sum()*4\n",
    "np.apply_along_axis(func,1,itzik)"
   ],
   "metadata": {
    "collapsed": false,
    "pycharm": {
     "name": "#%%\n"
    }
   }
  },
  {
   "cell_type": "code",
   "execution_count": null,
   "outputs": [],
   "source": [
    "rel_cols = ui_mtx[:,[6,1]]\n",
    "rel_cols = rel_cols[(rel_cols!=0).all(axis=1)]\n",
    "rel_cols"
   ],
   "metadata": {
    "collapsed": false,
    "pycharm": {
     "name": "#%%\n"
    }
   }
  },
  {
   "cell_type": "code",
   "execution_count": 37,
   "metadata": {
    "pycharm": {
     "name": "#%%\n"
    }
   },
   "outputs": [
    {
     "data": {
      "text/plain": "0.6666667"
     },
     "execution_count": 37,
     "metadata": {},
     "output_type": "execute_result"
    }
   ],
   "source": [
    "c = rel_cols[:,0] - rel_cols[:,1]\n",
    "c.mean().astype(np.float32)"
   ]
  },
  {
   "cell_type": "code",
   "execution_count": 12,
   "metadata": {
    "pycharm": {
     "name": "#%%\n"
    }
   },
   "outputs": [
    {
     "data": {
      "text/plain": "array([], shape=(0, 3), dtype=int32)"
     },
     "execution_count": 12,
     "metadata": {},
     "output_type": "execute_result"
    }
   ],
   "source": [
    "t[t[:,2] == 0]"
   ]
  },
  {
   "cell_type": "code",
   "execution_count": null,
   "outputs": [],
   "source": [
    "test_dic = {'a':1,'b':2,'c':3}\n",
    "with open('learned_paramaters/dic_test.pickle', 'wb') as f:\n",
    "    pickle.dump(test_dic, f)"
   ],
   "metadata": {
    "collapsed": false,
    "pycharm": {
     "name": "#%%\n"
    }
   }
  },
  {
   "cell_type": "code",
   "execution_count": null,
   "outputs": [],
   "source": [
    "with open('learned_paramaters/dic_test.pickle', 'rb') as f:\n",
    "    moti = pickle.load(f)"
   ],
   "metadata": {
    "collapsed": false,
    "pycharm": {
     "name": "#%%\n"
    }
   }
  },
  {
   "cell_type": "code",
   "execution_count": null,
   "outputs": [],
   "source": [
    "moti"
   ],
   "metadata": {
    "collapsed": false,
    "pycharm": {
     "name": "#%%\n"
    }
   }
  },
  {
   "cell_type": "code",
   "execution_count": null,
   "outputs": [],
   "source": [
    "with open('learned_paramaters/popularity_differences_params.pickle', 'rb') as f:\n",
    "    moti = pickle.load(f)"
   ],
   "metadata": {
    "collapsed": false,
    "pycharm": {
     "name": "#%%\n"
    }
   }
  },
  {
   "cell_type": "code",
   "execution_count": null,
   "outputs": [],
   "source": [
    "len(moti.keys())"
   ],
   "metadata": {
    "collapsed": false,
    "pycharm": {
     "name": "#%%\n"
    }
   }
  },
  {
   "cell_type": "code",
   "execution_count": null,
   "outputs": [],
   "source": [
    "3224*3223"
   ],
   "metadata": {
    "collapsed": false,
    "pycharm": {
     "name": "#%%\n"
    }
   }
  },
  {
   "cell_type": "code",
   "execution_count": 2,
   "outputs": [
    {
     "data": {
      "text/plain": "array([[ 0.12577747,  0.13286638, -0.09803337,  0.0981204 ,  0.22344792],\n       [-0.03353047,  0.0374203 , -0.00774108, -0.14836026,  0.11435774],\n       [ 0.08359585, -0.10718975, -0.00746879, -0.08252795, -0.18735923],\n       [-0.06051676, -0.05658918,  0.06794939, -0.14875344, -0.13690487]])"
     },
     "execution_count": 2,
     "metadata": {},
     "output_type": "execute_result"
    }
   ],
   "source": [
    "np.random.normal(0, 0.1, (4, 5))"
   ],
   "metadata": {
    "collapsed": false,
    "pycharm": {
     "name": "#%%\n"
    }
   }
  },
  {
   "cell_type": "code",
   "execution_count": 19,
   "outputs": [
    {
     "data": {
      "text/plain": "(6040,)"
     },
     "execution_count": 19,
     "metadata": {},
     "output_type": "execute_result"
    }
   ],
   "source": [
    "ui_mtx.mean(axis=1).shape"
   ],
   "metadata": {
    "collapsed": false,
    "pycharm": {
     "name": "#%%\n"
    }
   }
  },
  {
   "cell_type": "code",
   "execution_count": 4,
   "outputs": [
    {
     "data": {
      "text/plain": "array([16, 12, 16,  4, 12, 16, 15, 16, 12, 12,  9,  6, 12, 12,  4, 12,  6,\n        9,  6, 12, 12, 12, 12,  8,  4, 20, 16,  6,  9, 12,  3, 12, 10,  9,\n       12,  8,  8])"
     },
     "execution_count": 4,
     "metadata": {},
     "output_type": "execute_result"
    }
   ],
   "source": [
    "mask = ui_mtx[:,20] * ui_mtx[:,102]\n",
    "mask[mask>0]"
   ],
   "metadata": {
    "collapsed": false,
    "pycharm": {
     "name": "#%%\n"
    }
   }
  },
  {
   "cell_type": "code",
   "execution_count": 80,
   "outputs": [],
   "source": [
    "tsmall = t[:200000, :]\n",
    "small_ui = create_ui_matrix(tsmall)"
   ],
   "metadata": {
    "collapsed": false,
    "pycharm": {
     "name": "#%%\n"
    }
   }
  },
  {
   "cell_type": "code",
   "execution_count": 133,
   "outputs": [],
   "source": [
    "temp = small_ui.copy().astype(np.float32)\n",
    "temp[temp==0] = np.nan\n",
    "user_means = np.nanmean(temp,axis=1)"
   ],
   "metadata": {
    "collapsed": false,
    "pycharm": {
     "name": "#%%\n"
    }
   }
  },
  {
   "cell_type": "code",
   "execution_count": 134,
   "outputs": [],
   "source": [
    "import warnings\n",
    "warnings.filterwarnings(\"error\")"
   ],
   "metadata": {
    "collapsed": false,
    "pycharm": {
     "name": "#%%\n"
    }
   }
  },
  {
   "cell_type": "code",
   "execution_count": 135,
   "outputs": [],
   "source": [
    "similarity_dict = {}\n",
    "for i in range(small_ui.shape[0]):\n",
    "    for j in range(i + 1, small_ui.shape[0]):\n",
    "        # find shared items between the two users\n",
    "        shared_items = small_ui[[i,j],:]\n",
    "        rated_shared_items = shared_items[:,(shared_items != 0).all(axis=0)]\n",
    "        if rated_shared_items.shape[0] > 0:\n",
    "            # calculate the similarity between the two users\n",
    "            a = rated_shared_items[0] - user_means[i]\n",
    "            b = rated_shared_items[1] - user_means[j]\n",
    "            mechane = (np.sqrt(np.sum(a ** 2)) * np.sqrt(np.sum(b ** 2)))\n",
    "            if mechane == 0:\n",
    "                continue\n",
    "            else:\n",
    "                sim = np.sum(a*b) / mechane\n",
    "\n",
    "\n",
    "            # save similiraty if its bigger than 0\n",
    "            if sim > 0:\n",
    "                similarity_dict[(i,j)] = sim.astype(np.float16)"
   ],
   "metadata": {
    "collapsed": false,
    "pycharm": {
     "name": "#%%\n"
    }
   }
  },
  {
   "cell_type": "code",
   "execution_count": 136,
   "outputs": [],
   "source": [
    "chosen = 7\n",
    "item = 6\n",
    "sims = np.zeros(small_ui.shape[0])\n",
    "for i in range(small_ui.shape[0]):\n",
    "    if chosen < i:\n",
    "        sims[i] = similarity_dict.get((chosen,i), 0)\n",
    "    else:\n",
    "        sims[i] = similarity_dict.get((i,chosen), 0)\n",
    "sims[chosen] = -1"
   ],
   "metadata": {
    "collapsed": false,
    "pycharm": {
     "name": "#%%\n"
    }
   }
  },
  {
   "cell_type": "code",
   "execution_count": 142,
   "outputs": [],
   "source": [
    "itzik = np.argsort(sims)[::-1]"
   ],
   "metadata": {
    "collapsed": false,
    "pycharm": {
     "name": "#%%\n"
    }
   }
  },
  {
   "cell_type": "code",
   "execution_count": null,
   "outputs": [],
   "source": [
    "sorted_sims = np.sort(sims)[::-1]\n",
    "\n",
    "k = 0\n",
    "i = 0\n",
    "mone = 0\n",
    "mechane = 0\n",
    "while k < 10 and i < sorted_sims.shape[0]:\n",
    "    i+=1\n",
    "    if small_ui[k,item] != 0:\n",
    "        mone += sorted_sims[k] * small_ui[k,item]\n",
    "        mechane += sorted_sims[k]\n",
    "        k += 1\n",
    "\n",
    "print(mone / mechane)"
   ],
   "metadata": {
    "collapsed": false,
    "pycharm": {
     "name": "#%%\n"
    }
   }
  },
  {
   "cell_type": "code",
   "execution_count": 123,
   "outputs": [
    {
     "data": {
      "text/plain": "array([[0, 0, 0, ..., 0, 0, 0],\n       [0, 0, 0, ..., 0, 0, 0]])"
     },
     "execution_count": 123,
     "metadata": {},
     "output_type": "execute_result"
    }
   ],
   "source": [
    "moshik = ui_mtx[[10,14],:]\n",
    "moshik"
   ],
   "metadata": {
    "collapsed": false,
    "pycharm": {
     "name": "#%%\n"
    }
   }
  },
  {
   "cell_type": "code",
   "execution_count": 126,
   "outputs": [
    {
     "data": {
      "text/plain": "array([[4, 2, 4, 3, 4, 4, 4, 3, 4, 4, 1, 3, 3, 3, 5, 5, 3, 5, 3, 2, 3, 2,\n        3, 4, 5, 3, 3, 5, 4, 2, 4, 5, 3, 5, 1, 5, 5, 3, 3, 5, 3, 4, 4, 2,\n        3, 2, 4, 4, 1, 3, 5, 4, 3, 4, 4, 5, 2, 2, 5, 4, 5, 3, 5, 4, 3, 4,\n        3, 4, 5, 4, 3, 3, 4, 5, 2, 2, 4, 2],\n       [5, 4, 5, 5, 5, 5, 4, 5, 5, 5, 5, 4, 4, 5, 5, 5, 3, 5, 5, 3, 3, 4,\n        5, 4, 5, 5, 4, 5, 4, 2, 5, 5, 4, 5, 1, 5, 4, 3, 1, 5, 4, 5, 5, 4,\n        5, 4, 4, 5, 3, 4, 5, 4, 3, 3, 4, 5, 3, 3, 3, 4, 5, 4, 4, 3, 5, 4,\n        5, 1, 4, 3, 4, 4, 3, 4, 4, 3, 4, 2]])"
     },
     "execution_count": 126,
     "metadata": {},
     "output_type": "execute_result"
    }
   ],
   "source": [
    "moshik[:,(moshik!=0).all(axis=0)]"
   ],
   "metadata": {
    "collapsed": false,
    "pycharm": {
     "name": "#%%\n"
    }
   }
  },
  {
   "cell_type": "code",
   "execution_count": 146,
   "outputs": [
    {
     "data": {
      "text/plain": "(859395, 3)"
     },
     "execution_count": 146,
     "metadata": {},
     "output_type": "execute_result"
    }
   ],
   "source": [
    "t.shape"
   ],
   "metadata": {
    "collapsed": false,
    "pycharm": {
     "name": "#%%\n"
    }
   }
  }
 ],
 "metadata": {
  "interpreter": {
   "hash": "d0d24260c26781aab6a6247b3ae992ece4f26fd75ea3713b7a84756a27d5e272"
  },
  "kernelspec": {
   "display_name": "Python 3.8.8 ('base')",
   "language": "python",
   "name": "python3"
  },
  "language_info": {
   "codemirror_mode": {
    "name": "ipython",
    "version": 3
   },
   "file_extension": ".py",
   "mimetype": "text/x-python",
   "name": "python",
   "nbconvert_exporter": "python",
   "pygments_lexer": "ipython3",
   "version": "3.8.8"
  },
  "orig_nbformat": 4
 },
 "nbformat": 4,
 "nbformat_minor": 2
}